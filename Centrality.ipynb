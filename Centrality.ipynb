{
 "cells": [
  {
   "cell_type": "code",
   "execution_count": 1,
   "metadata": {},
   "outputs": [],
   "source": [
    "import os\n",
    "import pandas as pd\n",
    "import networkx as nx\n",
    "from networkx.algorithms import bipartite\n",
    "\n",
    "import matplotlib.pyplot as plt\n",
    "%matplotlib inline"
   ]
  },
  {
   "cell_type": "code",
   "execution_count": 2,
   "metadata": {},
   "outputs": [],
   "source": [
    "DATA_DIR = \"data\"\n",
    "\n",
    "FUNDAMENTAL_CODE = '851'\n",
    "MEDIO_CODE = '852'\n",
    "SUPERIOR_CODE = '853'\n",
    "TECNICO_CODE = '854'\n",
    "APOIO_CODE = '855'\n",
    "OUTRAS_CODE = '859'\n",
    "\n",
    "CLASSES = [FUNDAMENTAL_CODE, MEDIO_CODE, SUPERIOR_CODE, TECNICO_CODE, APOIO_CODE, OUTRAS_CODE]\n",
    "\n",
    "GRAFO_FORMAL_SOCIOS_EMPRESA = os.path.join(DATA_DIR, \"grafo_formal_socios_empresas.gexf\")\n",
    "\n",
    "GRAFO_SOCIOS_FILE = os.path.join(DATA_DIR, \"grafo_socios_socios.gexf\")\n",
    "GRAFO_EMPRESAS_FILE = os.path.join(DATA_DIR, \"grafo_empresas_empresas.gexf\")"
   ]
  },
  {
   "cell_type": "code",
   "execution_count": 3,
   "metadata": {},
   "outputs": [],
   "source": [
    "def print_info(G):\n",
    "    print(nx.info(G))\n",
    "    print(\"Nós isolados: {}\\nÉ bipartido: {}\".format(len(list(nx.isolates(G))), bipartite.is_bipartite(G)))\n",
    "    print(\"Número de arestas de um nó para si mesmo: {}\".format(nx.number_of_selfloops(G)))"
   ]
  },
  {
   "cell_type": "code",
   "execution_count": 4,
   "metadata": {},
   "outputs": [],
   "source": [
    "import math\n",
    "def entropy(x):\n",
    "    # Normalize\n",
    "    total = sum(x)\n",
    "    x = [xi / total for xi in x]\n",
    "    H = sum([-xi * math.log2(xi) for xi in x])\n",
    "    return H\n",
    "\n",
    "# scipy.stats.entropy().\n",
    "def gini(x):    \n",
    "    x = [xi for xi in x]\n",
    "    n = len(x)\n",
    "    gini_num = sum([sum([abs(x_i - x_j) for x_j in x]) for x_i in x])\n",
    "    gini_den = 2.0 * n * sum(x)\n",
    "    return gini_num / gini_den\n",
    "\n",
    "def path_length_histogram(G, title=None):\n",
    "    # Find path lengths\n",
    "    length_source_target = dict(nx.shortest_path_length(G))\n",
    "    # Convert dict of dicts to flat list\n",
    "    all_shortest = sum([\n",
    "        list(length_target.values())\n",
    "        for length_target\n",
    "        in length_source_target.values()],\n",
    "    [])\n",
    "    # Calculate integer bins\n",
    "    high = max(all_shortest)\n",
    "    bins = [-0.5 + i for i in range(high + 2)]\n",
    "    # Plot histogram\n",
    "    plt.hist(all_shortest, bins=bins, rwidth=0.8)\n",
    "    plt.title(title)\n",
    "    plt.xlabel(\"Distance\")\n",
    "    plt.ylabel(\"Count\")"
   ]
  },
  {
   "cell_type": "code",
   "execution_count": 5,
   "metadata": {},
   "outputs": [],
   "source": [
    "G_SE = nx.read_gexf(GRAFO_FORMAL_SOCIOS_EMPRESA)\n",
    "G_SOC = nx.read_gexf(GRAFO_SOCIOS_FILE)\n",
    "G_EMP = nx.read_gexf(GRAFO_EMPRESAS_FILE)"
   ]
  },
  {
   "cell_type": "code",
   "execution_count": 6,
   "metadata": {},
   "outputs": [],
   "source": [
    "AFFILIATION = \"Afiliação\"\n",
    "SOCIOS = \"Socios\"\n",
    "EMPRESAS = \"Empresas\"\n",
    "graphs = {AFFILIATION: G_SE, SOCIOS: G_SOC, EMPRESAS: G_EMP}"
   ]
  },
  {
   "cell_type": "code",
   "execution_count": 11,
   "metadata": {},
   "outputs": [
    {
     "name": "stdout",
     "output_type": "stream",
     "text": [
      "\n",
      " Afiliação\n",
      "Name: \n",
      "Type: DiGraph\n",
      "Number of nodes: 227596\n",
      "Number of edges: 194494\n",
      "Average in degree:   0.8546\n",
      "Average out degree:   0.8546\n",
      "Nós isolados: 0\n",
      "É bipartido: False\n",
      "Número de arestas de um nó para si mesmo: 0\n",
      "---\n",
      "\n",
      " Socios\n",
      "Name: \n",
      "Type: Graph\n",
      "Number of nodes: 103113\n",
      "Number of edges: 194683\n",
      "Average degree:   3.7761\n",
      "Nós isolados: 0\n",
      "É bipartido: False\n",
      "Número de arestas de um nó para si mesmo: 0\n",
      "---\n",
      "\n",
      " Empresas\n",
      "Name: \n",
      "Type: Graph\n",
      "Number of nodes: 35373\n",
      "Number of edges: 521274\n",
      "Average degree:  29.4730\n",
      "Nós isolados: 0\n",
      "É bipartido: False\n",
      "Número de arestas de um nó para si mesmo: 0\n",
      "---\n"
     ]
    }
   ],
   "source": [
    "for key, G in graphs.items():\n",
    "    print(\"\\n\", key)\n",
    "    print_info(G)\n",
    "    print(\"---\")"
   ]
  },
  {
   "cell_type": "markdown",
   "metadata": {},
   "source": [
    "----"
   ]
  },
  {
   "cell_type": "markdown",
   "metadata": {},
   "source": [
    "## Global Measures"
   ]
  },
  {
   "cell_type": "code",
   "execution_count": 9,
   "metadata": {},
   "outputs": [
    {
     "name": "stdout",
     "output_type": "stream",
     "text": [
      "\n",
      " Afiliação\n",
      "0.0007560093256543414\n",
      "---\n",
      "\n",
      " Socios\n",
      "0.3421721176275427\n",
      "---\n",
      "\n",
      " Empresas\n",
      "0.6143117303281495\n",
      "---\n"
     ]
    }
   ],
   "source": [
    "avg_clustering = {}\n",
    "for key, G in graphs.items():\n",
    "    print(\"\\n\", key)\n",
    "    avg_clustering[key] = nx.average_clustering(G)\n",
    "    print(avg_clustering[key])\n",
    "    print(\"---\")"
   ]
  },
  {
   "cell_type": "code",
   "execution_count": 10,
   "metadata": {},
   "outputs": [
    {
     "name": "stdout",
     "output_type": "stream",
     "text": [
      "\n",
      " Afiliação\n",
      "3.7547313279810882e-06\n",
      "---\n",
      "\n",
      " Socios\n",
      "3.662143790137784e-05\n",
      "---\n",
      "\n",
      " Empresas\n",
      "0.0008332293303207577\n",
      "---\n"
     ]
    }
   ],
   "source": [
    "density = {}\n",
    "for key, G in graphs.items():\n",
    "    print(\"\\n\", key)\n",
    "    density[key] = nx.density(G)\n",
    "    print(density[key])\n",
    "    print(\"---\")"
   ]
  },
  {
   "cell_type": "code",
   "execution_count": 7,
   "metadata": {},
   "outputs": [],
   "source": [
    "def length_of_list(list_of_numbers, number):\n",
    "    x = [i for i in list_of_numbers if i > number]\n",
    "    return len(x)"
   ]
  },
  {
   "cell_type": "code",
   "execution_count": 17,
   "metadata": {},
   "outputs": [],
   "source": [
    "def plot_pa(G, label):\n",
    "    dictlist = []\n",
    "    px = []\n",
    "\n",
    "    for key, value in G.degree():\n",
    "        dictlist.append(value)\n",
    "\n",
    "    for z in sorted(set(dictlist)):\n",
    "        px.append(length_of_list(dictlist, z)/len(dictlist))\n",
    "    plt.loglog(sorted(set(dictlist)), px, marker='o', label=label)"
   ]
  },
  {
   "cell_type": "code",
   "execution_count": 18,
   "metadata": {},
   "outputs": [
    {
     "name": "stdout",
     "output_type": "stream",
     "text": [
      "\n",
      " Afiliação\n",
      "---\n",
      "\n",
      " Socios\n",
      "---\n",
      "\n",
      " Empresas\n",
      "---\n"
     ]
    },
    {
     "data": {
      "text/plain": [
       "<matplotlib.legend.Legend at 0x13d884940>"
      ]
     },
     "execution_count": 18,
     "metadata": {},
     "output_type": "execute_result"
    },
    {
     "data": {
      "image/png": "[encoded data removed]",
      "text/plain": [
       "<Figure size 864x576 with 1 Axes>"
      ]
     },
     "metadata": {
      "needs_background": "light"
     },
     "output_type": "display_data"
    }
   ],
   "source": [
    "plt.figure(figsize=(12, 8))\n",
    "for key, G in graphs.items():\n",
    "    print(\"\\n\", key)\n",
    "    plot_pa(G, key)\n",
    "    print(\"---\")\n",
    "plt.legend()"
   ]
  },
  {
   "cell_type": "code",
   "execution_count": null,
   "metadata": {},
   "outputs": [],
   "source": [
    "entropies = {}\n",
    "for key, v in eigenvector.items():\n",
    "    entropies[key] = entropy(v)\n",
    "    \n",
    "    display()"
   ]
  },
  {
   "cell_type": "code",
   "execution_count": null,
   "metadata": {},
   "outputs": [],
   "source": [
    "# Demorado\n",
    "nx.average_node_connectivity(G_karate)"
   ]
  },
  {
   "cell_type": "code",
   "execution_count": 7,
   "metadata": {},
   "outputs": [
    {
     "name": "stdout",
     "output_type": "stream",
     "text": [
      "\n",
      " Afiliação\n"
     ]
    },
    {
     "ename": "NetworkXError",
     "evalue": "Found infinite path length because the digraph is not strongly connected",
     "output_type": "error",
     "traceback": [
      "\u001b[0;31m------------------------------------------------------------\u001b[0m",
      "\u001b[0;31mNetworkXError\u001b[0m              Traceback (most recent call last)",
      "\u001b[0;32m<ipython-input-7-d5f0c054d208>\u001b[0m in \u001b[0;36m<module>\u001b[0;34m\u001b[0m\n\u001b[1;32m      1\u001b[0m \u001b[0;32mfor\u001b[0m \u001b[0mkey\u001b[0m\u001b[0;34m,\u001b[0m \u001b[0mG\u001b[0m \u001b[0;32min\u001b[0m \u001b[0mgraphs\u001b[0m\u001b[0;34m.\u001b[0m\u001b[0mitems\u001b[0m\u001b[0;34m(\u001b[0m\u001b[0;34m)\u001b[0m\u001b[0;34m:\u001b[0m\u001b[0;34m\u001b[0m\u001b[0;34m\u001b[0m\u001b[0m\n\u001b[1;32m      2\u001b[0m     \u001b[0mprint\u001b[0m\u001b[0;34m(\u001b[0m\u001b[0;34m\"\\n\"\u001b[0m\u001b[0;34m,\u001b[0m \u001b[0mkey\u001b[0m\u001b[0;34m)\u001b[0m\u001b[0;34m\u001b[0m\u001b[0;34m\u001b[0m\u001b[0m\n\u001b[0;32m----> 3\u001b[0;31m     \u001b[0mnx\u001b[0m\u001b[0;34m.\u001b[0m\u001b[0mdiameter\u001b[0m\u001b[0;34m(\u001b[0m\u001b[0mG\u001b[0m\u001b[0;34m)\u001b[0m\u001b[0;34m\u001b[0m\u001b[0;34m\u001b[0m\u001b[0m\n\u001b[0m\u001b[1;32m      4\u001b[0m     \u001b[0mprint\u001b[0m\u001b[0;34m(\u001b[0m\u001b[0;34m\"---\"\u001b[0m\u001b[0;34m)\u001b[0m\u001b[0;34m\u001b[0m\u001b[0;34m\u001b[0m\u001b[0m\n",
      "\u001b[0;32m~/Workspace/python/who-owns-brazilian-education/venv/lib/python3.7/site-packages/networkx/algorithms/distance_measures.py\u001b[0m in \u001b[0;36mdiameter\u001b[0;34m(G, e, usebounds)\u001b[0m\n\u001b[1;32m    279\u001b[0m         \u001b[0;32mreturn\u001b[0m \u001b[0mextrema_bounding\u001b[0m\u001b[0;34m(\u001b[0m\u001b[0mG\u001b[0m\u001b[0;34m,\u001b[0m \u001b[0mcompute\u001b[0m\u001b[0;34m=\u001b[0m\u001b[0;34m\"diameter\"\u001b[0m\u001b[0;34m)\u001b[0m\u001b[0;34m\u001b[0m\u001b[0;34m\u001b[0m\u001b[0m\n\u001b[1;32m    280\u001b[0m     \u001b[0;32mif\u001b[0m \u001b[0me\u001b[0m \u001b[0;32mis\u001b[0m \u001b[0;32mNone\u001b[0m\u001b[0;34m:\u001b[0m\u001b[0;34m\u001b[0m\u001b[0;34m\u001b[0m\u001b[0m\n\u001b[0;32m--> 281\u001b[0;31m         \u001b[0me\u001b[0m \u001b[0;34m=\u001b[0m \u001b[0meccentricity\u001b[0m\u001b[0;34m(\u001b[0m\u001b[0mG\u001b[0m\u001b[0;34m)\u001b[0m\u001b[0;34m\u001b[0m\u001b[0;34m\u001b[0m\u001b[0m\n\u001b[0m\u001b[1;32m    282\u001b[0m     \u001b[0;32mreturn\u001b[0m \u001b[0mmax\u001b[0m\u001b[0;34m(\u001b[0m\u001b[0me\u001b[0m\u001b[0;34m.\u001b[0m\u001b[0mvalues\u001b[0m\u001b[0;34m(\u001b[0m\u001b[0;34m)\u001b[0m\u001b[0;34m)\u001b[0m\u001b[0;34m\u001b[0m\u001b[0;34m\u001b[0m\u001b[0m\n\u001b[1;32m    283\u001b[0m \u001b[0;34m\u001b[0m\u001b[0m\n",
      "\u001b[0;32m~/Workspace/python/who-owns-brazilian-education/venv/lib/python3.7/site-packages/networkx/algorithms/distance_measures.py\u001b[0m in \u001b[0;36meccentricity\u001b[0;34m(G, v, sp)\u001b[0m\n\u001b[1;32m    244\u001b[0m                 msg = ('Found infinite path length because the graph is not'\n\u001b[1;32m    245\u001b[0m                        ' connected')\n\u001b[0;32m--> 246\u001b[0;31m             \u001b[0;32mraise\u001b[0m \u001b[0mnx\u001b[0m\u001b[0;34m.\u001b[0m\u001b[0mNetworkXError\u001b[0m\u001b[0;34m(\u001b[0m\u001b[0mmsg\u001b[0m\u001b[0;34m)\u001b[0m\u001b[0;34m\u001b[0m\u001b[0;34m\u001b[0m\u001b[0m\n\u001b[0m\u001b[1;32m    247\u001b[0m \u001b[0;34m\u001b[0m\u001b[0m\n\u001b[1;32m    248\u001b[0m         \u001b[0me\u001b[0m\u001b[0;34m[\u001b[0m\u001b[0mn\u001b[0m\u001b[0;34m]\u001b[0m \u001b[0;34m=\u001b[0m \u001b[0mmax\u001b[0m\u001b[0;34m(\u001b[0m\u001b[0mlength\u001b[0m\u001b[0;34m.\u001b[0m\u001b[0mvalues\u001b[0m\u001b[0;34m(\u001b[0m\u001b[0;34m)\u001b[0m\u001b[0;34m)\u001b[0m\u001b[0;34m\u001b[0m\u001b[0;34m\u001b[0m\u001b[0m\n",
      "\u001b[0;31mNetworkXError\u001b[0m: Found infinite path length because the digraph is not strongly connected"
     ]
    }
   ],
   "source": [
    "for key, G in graphs.items():\n",
    "    print(\"\\n\", key)\n",
    "    nx.diameter(G)\n",
    "    print(\"---\")"
   ]
  },
  {
   "cell_type": "code",
   "execution_count": null,
   "metadata": {},
   "outputs": [],
   "source": [
    "nx.average_shortest_path_length(G)"
   ]
  },
  {
   "cell_type": "code",
   "execution_count": null,
   "metadata": {},
   "outputs": [],
   "source": [
    "entropy(nx.eigenvector_centrality(G_karate).values())"
   ]
  },
  {
   "cell_type": "code",
   "execution_count": null,
   "metadata": {},
   "outputs": [],
   "source": [
    "gini(nx.eigenvector_centrality(G_karate).values())"
   ]
  },
  {
   "cell_type": "code",
   "execution_count": 13,
   "metadata": {},
   "outputs": [],
   "source": []
  },
  {
   "cell_type": "code",
   "execution_count": 14,
   "metadata": {},
   "outputs": [],
   "source": []
  },
  {
   "cell_type": "markdown",
   "metadata": {},
   "source": [
    "# Local Measures"
   ]
  },
  {
   "cell_type": "code",
   "execution_count": 16,
   "metadata": {},
   "outputs": [
    {
     "name": "stdout",
     "output_type": "stream",
     "text": [
      "\n",
      " Afiliação\n"
     ]
    },
    {
     "ename": "KeyboardInterrupt",
     "evalue": "",
     "output_type": "error",
     "traceback": [
      "\u001b[0;31m------------------------------------------------------------\u001b[0m",
      "\u001b[0;31mKeyboardInterrupt\u001b[0m          Traceback (most recent call last)",
      "\u001b[0;32m<ipython-input-16-6bb5eee92cf2>\u001b[0m in \u001b[0;36m<module>\u001b[0;34m\u001b[0m\n\u001b[1;32m      2\u001b[0m \u001b[0;32mfor\u001b[0m \u001b[0mkey\u001b[0m\u001b[0;34m,\u001b[0m \u001b[0mG\u001b[0m \u001b[0;32min\u001b[0m \u001b[0mgraphs\u001b[0m\u001b[0;34m.\u001b[0m\u001b[0mitems\u001b[0m\u001b[0;34m(\u001b[0m\u001b[0;34m)\u001b[0m\u001b[0;34m:\u001b[0m\u001b[0;34m\u001b[0m\u001b[0;34m\u001b[0m\u001b[0m\n\u001b[1;32m      3\u001b[0m     \u001b[0mprint\u001b[0m\u001b[0;34m(\u001b[0m\u001b[0;34m\"\\n\"\u001b[0m\u001b[0;34m,\u001b[0m \u001b[0mkey\u001b[0m\u001b[0;34m)\u001b[0m\u001b[0;34m\u001b[0m\u001b[0;34m\u001b[0m\u001b[0m\n\u001b[0;32m----> 4\u001b[0;31m     \u001b[0mbetweenness\u001b[0m\u001b[0;34m[\u001b[0m\u001b[0mkey\u001b[0m\u001b[0;34m]\u001b[0m \u001b[0;34m=\u001b[0m \u001b[0mnx\u001b[0m\u001b[0;34m.\u001b[0m\u001b[0mbetweenness_centrality\u001b[0m\u001b[0;34m(\u001b[0m\u001b[0mG\u001b[0m\u001b[0;34m,\u001b[0m \u001b[0mnormalized\u001b[0m\u001b[0;34m=\u001b[0m\u001b[0;32mFalse\u001b[0m\u001b[0;34m)\u001b[0m\u001b[0;34m\u001b[0m\u001b[0;34m\u001b[0m\u001b[0m\n\u001b[0m\u001b[1;32m      5\u001b[0m     \u001b[0msorted\u001b[0m\u001b[0;34m(\u001b[0m\u001b[0mbetweenness\u001b[0m\u001b[0;34m[\u001b[0m\u001b[0mkey\u001b[0m\u001b[0;34m]\u001b[0m\u001b[0;34m.\u001b[0m\u001b[0mitems\u001b[0m\u001b[0;34m(\u001b[0m\u001b[0;34m)\u001b[0m\u001b[0;34m,\u001b[0m \u001b[0mkey\u001b[0m\u001b[0;34m=\u001b[0m\u001b[0;32mlambda\u001b[0m \u001b[0mx\u001b[0m\u001b[0;34m:\u001b[0m\u001b[0mx\u001b[0m\u001b[0;34m[\u001b[0m\u001b[0;36m1\u001b[0m\u001b[0;34m]\u001b[0m\u001b[0;34m,\u001b[0m \u001b[0mreverse\u001b[0m\u001b[0;34m=\u001b[0m\u001b[0;32mTrue\u001b[0m\u001b[0;34m)\u001b[0m\u001b[0;34m[\u001b[0m\u001b[0;36m0\u001b[0m\u001b[0;34m:\u001b[0m\u001b[0;36m10\u001b[0m\u001b[0;34m]\u001b[0m\u001b[0;34m\u001b[0m\u001b[0;34m\u001b[0m\u001b[0m\n\u001b[1;32m      6\u001b[0m     \u001b[0mprint\u001b[0m\u001b[0;34m(\u001b[0m\u001b[0;34m\"---\"\u001b[0m\u001b[0;34m)\u001b[0m\u001b[0;34m\u001b[0m\u001b[0;34m\u001b[0m\u001b[0m\n",
      "\u001b[0;32m</Users/hallpaz/Workspace/python/who-owns-brazilian-education/venv/lib/python3.7/site-packages/decorator.py:decorator-gen-249>\u001b[0m in \u001b[0;36mbetweenness_centrality\u001b[0;34m(G, k, normalized, weight, endpoints, seed)\u001b[0m\n",
      "\u001b[0;32m~/Workspace/python/who-owns-brazilian-education/venv/lib/python3.7/site-packages/networkx/utils/decorators.py\u001b[0m in \u001b[0;36m_random_state\u001b[0;34m(func, *args, **kwargs)\u001b[0m\n\u001b[1;32m    462\u001b[0m         \u001b[0mnew_args\u001b[0m \u001b[0;34m=\u001b[0m \u001b[0mlist\u001b[0m\u001b[0;34m(\u001b[0m\u001b[0margs\u001b[0m\u001b[0;34m)\u001b[0m\u001b[0;34m\u001b[0m\u001b[0;34m\u001b[0m\u001b[0m\n\u001b[1;32m    463\u001b[0m         \u001b[0mnew_args\u001b[0m\u001b[0;34m[\u001b[0m\u001b[0mrandom_state_index\u001b[0m\u001b[0;34m]\u001b[0m \u001b[0;34m=\u001b[0m \u001b[0mrandom_state\u001b[0m\u001b[0;34m\u001b[0m\u001b[0;34m\u001b[0m\u001b[0m\n\u001b[0;32m--> 464\u001b[0;31m         \u001b[0;32mreturn\u001b[0m \u001b[0mfunc\u001b[0m\u001b[0;34m(\u001b[0m\u001b[0;34m*\u001b[0m\u001b[0mnew_args\u001b[0m\u001b[0;34m,\u001b[0m \u001b[0;34m**\u001b[0m\u001b[0mkwargs\u001b[0m\u001b[0;34m)\u001b[0m\u001b[0;34m\u001b[0m\u001b[0;34m\u001b[0m\u001b[0m\n\u001b[0m\u001b[1;32m    465\u001b[0m     \u001b[0;32mreturn\u001b[0m \u001b[0m_random_state\u001b[0m\u001b[0;34m\u001b[0m\u001b[0;34m\u001b[0m\u001b[0m\n",
      "\u001b[0;32m</Users/hallpaz/Workspace/python/who-owns-brazilian-education/venv/lib/python3.7/site-packages/decorator.py:decorator-gen-248>\u001b[0m in \u001b[0;36mbetweenness_centrality\u001b[0;34m(G, k, normalized, weight, endpoints, seed)\u001b[0m\n",
      "\u001b[0;32m~/Workspace/python/who-owns-brazilian-education/venv/lib/python3.7/site-packages/networkx/utils/decorators.py\u001b[0m in \u001b[0;36m_not_implemented_for\u001b[0;34m(not_implement_for_func, *args, **kwargs)\u001b[0m\n\u001b[1;32m     80\u001b[0m             \u001b[0;32mraise\u001b[0m \u001b[0mnx\u001b[0m\u001b[0;34m.\u001b[0m\u001b[0mNetworkXNotImplemented\u001b[0m\u001b[0;34m(\u001b[0m\u001b[0mmsg\u001b[0m\u001b[0;34m)\u001b[0m\u001b[0;34m\u001b[0m\u001b[0;34m\u001b[0m\u001b[0m\n\u001b[1;32m     81\u001b[0m         \u001b[0;32melse\u001b[0m\u001b[0;34m:\u001b[0m\u001b[0;34m\u001b[0m\u001b[0;34m\u001b[0m\u001b[0m\n\u001b[0;32m---> 82\u001b[0;31m             \u001b[0;32mreturn\u001b[0m \u001b[0mnot_implement_for_func\u001b[0m\u001b[0;34m(\u001b[0m\u001b[0;34m*\u001b[0m\u001b[0margs\u001b[0m\u001b[0;34m,\u001b[0m \u001b[0;34m**\u001b[0m\u001b[0mkwargs\u001b[0m\u001b[0;34m)\u001b[0m\u001b[0;34m\u001b[0m\u001b[0;34m\u001b[0m\u001b[0m\n\u001b[0m\u001b[1;32m     83\u001b[0m     \u001b[0;32mreturn\u001b[0m \u001b[0m_not_implemented_for\u001b[0m\u001b[0;34m\u001b[0m\u001b[0;34m\u001b[0m\u001b[0m\n\u001b[1;32m     84\u001b[0m \u001b[0;34m\u001b[0m\u001b[0m\n",
      "\u001b[0;32m~/Workspace/python/who-owns-brazilian-education/venv/lib/python3.7/site-packages/networkx/algorithms/centrality/betweenness.py\u001b[0m in \u001b[0;36mbetweenness_centrality\u001b[0;34m(G, k, normalized, weight, endpoints, seed)\u001b[0m\n\u001b[1;32m    134\u001b[0m         \u001b[0;31m# single source shortest paths\u001b[0m\u001b[0;34m\u001b[0m\u001b[0;34m\u001b[0m\u001b[0;34m\u001b[0m\u001b[0m\n\u001b[1;32m    135\u001b[0m         \u001b[0;32mif\u001b[0m \u001b[0mweight\u001b[0m \u001b[0;32mis\u001b[0m \u001b[0;32mNone\u001b[0m\u001b[0;34m:\u001b[0m  \u001b[0;31m# use BFS\u001b[0m\u001b[0;34m\u001b[0m\u001b[0;34m\u001b[0m\u001b[0m\n\u001b[0;32m--> 136\u001b[0;31m             \u001b[0mS\u001b[0m\u001b[0;34m,\u001b[0m \u001b[0mP\u001b[0m\u001b[0;34m,\u001b[0m \u001b[0msigma\u001b[0m \u001b[0;34m=\u001b[0m \u001b[0m_single_source_shortest_path_basic\u001b[0m\u001b[0;34m(\u001b[0m\u001b[0mG\u001b[0m\u001b[0;34m,\u001b[0m \u001b[0ms\u001b[0m\u001b[0;34m)\u001b[0m\u001b[0;34m\u001b[0m\u001b[0;34m\u001b[0m\u001b[0m\n\u001b[0m\u001b[1;32m    137\u001b[0m         \u001b[0;32melse\u001b[0m\u001b[0;34m:\u001b[0m  \u001b[0;31m# use Dijkstra's algorithm\u001b[0m\u001b[0;34m\u001b[0m\u001b[0;34m\u001b[0m\u001b[0m\n\u001b[1;32m    138\u001b[0m             \u001b[0mS\u001b[0m\u001b[0;34m,\u001b[0m \u001b[0mP\u001b[0m\u001b[0;34m,\u001b[0m \u001b[0msigma\u001b[0m \u001b[0;34m=\u001b[0m \u001b[0m_single_source_dijkstra_path_basic\u001b[0m\u001b[0;34m(\u001b[0m\u001b[0mG\u001b[0m\u001b[0;34m,\u001b[0m \u001b[0ms\u001b[0m\u001b[0;34m,\u001b[0m \u001b[0mweight\u001b[0m\u001b[0;34m)\u001b[0m\u001b[0;34m\u001b[0m\u001b[0;34m\u001b[0m\u001b[0m\n",
      "\u001b[0;32m~/Workspace/python/who-owns-brazilian-education/venv/lib/python3.7/site-packages/networkx/algorithms/centrality/betweenness.py\u001b[0m in \u001b[0;36m_single_source_shortest_path_basic\u001b[0;34m(G, s)\u001b[0m\n\u001b[1;32m    251\u001b[0m     \u001b[0mP\u001b[0m \u001b[0;34m=\u001b[0m \u001b[0;34m{\u001b[0m\u001b[0;34m}\u001b[0m\u001b[0;34m\u001b[0m\u001b[0;34m\u001b[0m\u001b[0m\n\u001b[1;32m    252\u001b[0m     \u001b[0;32mfor\u001b[0m \u001b[0mv\u001b[0m \u001b[0;32min\u001b[0m \u001b[0mG\u001b[0m\u001b[0;34m:\u001b[0m\u001b[0;34m\u001b[0m\u001b[0;34m\u001b[0m\u001b[0m\n\u001b[0;32m--> 253\u001b[0;31m         \u001b[0mP\u001b[0m\u001b[0;34m[\u001b[0m\u001b[0mv\u001b[0m\u001b[0;34m]\u001b[0m \u001b[0;34m=\u001b[0m \u001b[0;34m[\u001b[0m\u001b[0;34m]\u001b[0m\u001b[0;34m\u001b[0m\u001b[0;34m\u001b[0m\u001b[0m\n\u001b[0m\u001b[1;32m    254\u001b[0m     \u001b[0msigma\u001b[0m \u001b[0;34m=\u001b[0m \u001b[0mdict\u001b[0m\u001b[0;34m.\u001b[0m\u001b[0mfromkeys\u001b[0m\u001b[0;34m(\u001b[0m\u001b[0mG\u001b[0m\u001b[0;34m,\u001b[0m \u001b[0;36m0.0\u001b[0m\u001b[0;34m)\u001b[0m    \u001b[0;31m# sigma[v]=0 for v in G\u001b[0m\u001b[0;34m\u001b[0m\u001b[0;34m\u001b[0m\u001b[0m\n\u001b[1;32m    255\u001b[0m     \u001b[0mD\u001b[0m \u001b[0;34m=\u001b[0m \u001b[0;34m{\u001b[0m\u001b[0;34m}\u001b[0m\u001b[0;34m\u001b[0m\u001b[0;34m\u001b[0m\u001b[0m\n",
      "\u001b[0;31mKeyboardInterrupt\u001b[0m: "
     ]
    }
   ],
   "source": [
    "betweenness = {}\n",
    "for key, G in graphs.items():\n",
    "    print(\"\\n\", key)\n",
    "    betweenness[key] = nx.betweenness_centrality(G, normalized=False)\n",
    "    sorted(betweenness[key].items(), key=lambda x:x[1], reverse=True)[0:10]\n",
    "    print(\"---\")"
   ]
  },
  {
   "cell_type": "code",
   "execution_count": 19,
   "metadata": {},
   "outputs": [
    {
     "name": "stdout",
     "output_type": "stream",
     "text": [
      "\n",
      " Afiliação\n"
     ]
    },
    {
     "data": {
      "text/plain": [
       "[('64047806000118', 0.8239768550409692),\n",
       " ('829603000109', 0.38099527753995904),\n",
       " ('4718981000168', 0.38099527753995904),\n",
       " ('66866278000154', 0.07316223059308725),\n",
       " ('4778582000192', 0.04215114747611782),\n",
       " ('4778588000160', 0.04215114747611782),\n",
       " ('4778588000240', 0.04215114747611782),\n",
       " ('4778588000402', 0.04215114747611782),\n",
       " ('4778588000593', 0.04215114747611782),\n",
       " ('4778588000674', 0.04215114747611782)]"
      ]
     },
     "metadata": {},
     "output_type": "display_data"
    },
    {
     "name": "stdout",
     "output_type": "stream",
     "text": [
      "---\n",
      "\n",
      " Socios\n"
     ]
    },
    {
     "data": {
      "text/plain": [
       "[('***825215**ANTONIO LUIZ VITA SOUZA', 0.05407377511378116),\n",
       " ('***625898**LUIZ CARLOS PASSETTI', 0.05407377511378116),\n",
       " ('***835508**FERNANDO ALBERTO SCHWARTZ DE MAGALHAES', 0.05407377511378116),\n",
       " ('***931467**MAURO MOREIRA', 0.05407377511378116),\n",
       " ('***581634**HENRIQUE GONDIM DE OLIVEIRA', 0.05407377511378116),\n",
       " ('***849508**IDESIO DA SILVA COELHO JUNIOR', 0.05407377511378116),\n",
       " ('***840298**MARCOS ANTONIO QUINTANILHA', 0.05407377511378116),\n",
       " ('***195248**MARIA ELISA DE CASTRO GIANINI', 0.05407377511378116),\n",
       " ('***647617**SERGIO RICARDO ROMANI', 0.05407377511378116),\n",
       " ('***071677**JOAO RICARDO PEREIRA DA COSTA', 0.05407377511378116)]"
      ]
     },
     "metadata": {},
     "output_type": "display_data"
    },
    {
     "name": "stdout",
     "output_type": "stream",
     "text": [
      "---\n",
      "\n",
      " Empresas\n"
     ]
    },
    {
     "data": {
      "text/plain": [
       "[('3818379000130', 0.04001287226340523),\n",
       " ('3818379000300', 0.04001287226340523),\n",
       " ('3818379000482', 0.04001287226340523),\n",
       " ('3818379000563', 0.04001287226340523),\n",
       " ('3818379000644', 0.04001287226340523),\n",
       " ('3818379000725', 0.04001287226340523),\n",
       " ('3818379000806', 0.04001287226340523),\n",
       " ('3818379000997', 0.04001287226340523),\n",
       " ('3818379001020', 0.04001287226340523),\n",
       " ('3818379001454', 0.04001287226340523)]"
      ]
     },
     "metadata": {},
     "output_type": "display_data"
    },
    {
     "name": "stdout",
     "output_type": "stream",
     "text": [
      "---\n"
     ]
    }
   ],
   "source": [
    "#  Individuals with high eigenvector centrality create many short paths between others, \n",
    "# but not necessarily the shortest paths\n",
    "eigenvector = {}\n",
    "for key, G in graphs.items():\n",
    "    print(\"\\n\", key)\n",
    "    eigenvector[key] = nx.eigenvector_centrality(G)\n",
    "    display(sorted(eigenvector[key].items(), key=lambda x:x[1], reverse=True)[0:10])\n",
    "    print(\"---\")"
   ]
  },
  {
   "cell_type": "code",
   "execution_count": 24,
   "metadata": {},
   "outputs": [
    {
     "name": "stdout",
     "output_type": "stream",
     "text": [
      "\n",
      " Afiliação\n"
     ]
    },
    {
     "data": {
      "text/plain": [
       "[('64047806000118', 0.8239768550409692),\n",
       " ('829603000109', 0.38099527753995904),\n",
       " ('4718981000168', 0.38099527753995904),\n",
       " ('66866278000154', 0.07316223059308725),\n",
       " ('4778582000192', 0.04215114747611782),\n",
       " ('4778588000160', 0.04215114747611782),\n",
       " ('4778588000240', 0.04215114747611782),\n",
       " ('4778588000402', 0.04215114747611782),\n",
       " ('4778588000593', 0.04215114747611782),\n",
       " ('4778588000674', 0.04215114747611782)]"
      ]
     },
     "metadata": {},
     "output_type": "display_data"
    },
    {
     "name": "stdout",
     "output_type": "stream",
     "text": [
      "---\n",
      "\n",
      " Socios\n"
     ]
    },
    {
     "data": {
      "text/plain": [
       "[('***825215**ANTONIO LUIZ VITA SOUZA', 0.05407377511378116),\n",
       " ('***625898**LUIZ CARLOS PASSETTI', 0.05407377511378116),\n",
       " ('***835508**FERNANDO ALBERTO SCHWARTZ DE MAGALHAES', 0.05407377511378116),\n",
       " ('***931467**MAURO MOREIRA', 0.05407377511378116),\n",
       " ('***581634**HENRIQUE GONDIM DE OLIVEIRA', 0.05407377511378116),\n",
       " ('***849508**IDESIO DA SILVA COELHO JUNIOR', 0.05407377511378116),\n",
       " ('***840298**MARCOS ANTONIO QUINTANILHA', 0.05407377511378116),\n",
       " ('***195248**MARIA ELISA DE CASTRO GIANINI', 0.05407377511378116),\n",
       " ('***647617**SERGIO RICARDO ROMANI', 0.05407377511378116),\n",
       " ('***071677**JOAO RICARDO PEREIRA DA COSTA', 0.05407377511378116)]"
      ]
     },
     "metadata": {},
     "output_type": "display_data"
    },
    {
     "name": "stdout",
     "output_type": "stream",
     "text": [
      "---\n",
      "\n",
      " Empresas\n"
     ]
    },
    {
     "data": {
      "text/plain": [
       "[('3818379000130', 0.04001287226340523),\n",
       " ('3818379000300', 0.04001287226340523),\n",
       " ('3818379000482', 0.04001287226340523),\n",
       " ('3818379000563', 0.04001287226340523),\n",
       " ('3818379000644', 0.04001287226340523),\n",
       " ('3818379000725', 0.04001287226340523),\n",
       " ('3818379000806', 0.04001287226340523),\n",
       " ('3818379000997', 0.04001287226340523),\n",
       " ('3818379001020', 0.04001287226340523),\n",
       " ('3818379001454', 0.04001287226340523)]"
      ]
     },
     "metadata": {},
     "output_type": "display_data"
    },
    {
     "name": "stdout",
     "output_type": "stream",
     "text": [
      "---\n"
     ]
    }
   ],
   "source": [
    "for key in eigenvector:\n",
    "    print(\"\\n\", key)\n",
    "    display(sorted(eigenvector[key].items(), key=lambda x:x[1], reverse=True)[0:10])\n",
    "    print(\"---\")"
   ]
  },
  {
   "cell_type": "code",
   "execution_count": 25,
   "metadata": {},
   "outputs": [],
   "source": [
    "# Function to plot a single histogram\n",
    "def centrality_histogram(x, title=None):\n",
    "    plt.hist(x, density=True)\n",
    "    plt.title(title)\n",
    "    plt.xlabel(\"Centrality\")\n",
    "    plt.ylabel(\"Density\")\n",
    "\n",
    "def eigenvector_histogram():\n",
    "    # Create a figure\n",
    "    plt.figure(figsize=(15, 8))\n",
    "    # Calculate centralities for each example and plot\n",
    "    plt.subplot(1, 3, 1)\n",
    "    centrality_histogram(\n",
    "        eigenvector[AFFILIATION].values(), title=AFFILIATION)\n",
    "    plt.subplot(1, 3, 2)\n",
    "    centrality_histogram(\n",
    "        eigenvector[SOCIOS].values(), title=SOCIOS)\n",
    "    plt.subplot(1, 3, 3)\n",
    "    centrality_histogram(\n",
    "        eigenvector[EMPRESAS].values(), title=EMPRESAS)\n",
    "\n",
    "    # Adjust the layout\n",
    "    plt.tight_layout()"
   ]
  },
  {
   "cell_type": "code",
   "execution_count": 26,
   "metadata": {},
   "outputs": [
    {
     "data": {
      "image/png": "[encoded data removed]",
      "text/plain": [
       "<Figure size 1080x576 with 3 Axes>"
      ]
     },
     "metadata": {
      "needs_background": "light"
     },
     "output_type": "display_data"
    }
   ],
   "source": [
    "eigenvector_histogram()"
   ]
  },
  {
   "cell_type": "code",
   "execution_count": 27,
   "metadata": {},
   "outputs": [
    {
     "ename": "NameError",
     "evalue": "name 'pos' is not defined",
     "output_type": "error",
     "traceback": [
      "\u001b[0;31m------------------------------------------------------------\u001b[0m",
      "\u001b[0;31mNameError\u001b[0m                  Traceback (most recent call last)",
      "\u001b[0;32m<ipython-input-27-c22d11fd8d18>\u001b[0m in \u001b[0;36m<module>\u001b[0;34m\u001b[0m\n\u001b[1;32m      8\u001b[0m \u001b[0;31m#     edge_color=\"#333333\", alpha=0.05, with_labels=False)\u001b[0m\u001b[0;34m\u001b[0m\u001b[0;34m\u001b[0m\u001b[0;34m\u001b[0m\u001b[0m\n\u001b[1;32m      9\u001b[0m nx.draw_networkx(\n\u001b[0;32m---> 10\u001b[0;31m     \u001b[0mG_core_30\u001b[0m\u001b[0;34m,\u001b[0m \u001b[0mpos\u001b[0m\u001b[0;34m=\u001b[0m\u001b[0mpos\u001b[0m\u001b[0;34m,\u001b[0m \u001b[0mnode_size\u001b[0m\u001b[0;34m=\u001b[0m\u001b[0;36m0\u001b[0m\u001b[0;34m,\u001b[0m\u001b[0;34m\u001b[0m\u001b[0;34m\u001b[0m\u001b[0m\n\u001b[0m\u001b[1;32m     11\u001b[0m     edge_color=\"#7F7FEF\", alpha=0.05, with_labels=False)\n\u001b[1;32m     12\u001b[0m nx.draw_networkx(\n",
      "\u001b[0;31mNameError\u001b[0m: name 'pos' is not defined"
     ]
    }
   ],
   "source": [
    "# Find k-cores\n",
    "G_core_30 = nx.k_core(G_EMP, 30)\n",
    "G_core_60 = nx.k_core(G_EMP, 60)\n",
    "\n",
    "# Visualize network and k-cores\n",
    "# nx.draw_networkx(\n",
    "#     G_social, pos=pos, node_size=0,\n",
    "#     edge_color=\"#333333\", alpha=0.05, with_labels=False)\n",
    "nx.draw_networkx(\n",
    "    G_core_30, pos=pos, node_size=0,\n",
    "    edge_color=\"#7F7FEF\", alpha=0.05, with_labels=False)\n",
    "nx.draw_networkx(\n",
    "    G_core_60, pos=pos, node_size=0,\n",
    "    edge_color=\"#AFAF33\", alpha=0.05, with_labels=False)"
   ]
  },
  {
   "cell_type": "code",
   "execution_count": 18,
   "metadata": {},
   "outputs": [
    {
     "data": {
      "text/plain": [
       "[('***825215**ANTONIO LUIZ VITA SOUZA', 0.003307083559624486),\n",
       " ('***625898**LUIZ CARLOS PASSETTI', 0.003307083559624486),\n",
       " ('***835508**FERNANDO ALBERTO SCHWARTZ DE MAGALHAES', 0.003307083559624486),\n",
       " ('***931467**MAURO MOREIRA', 0.003307083559624486),\n",
       " ('***581634**HENRIQUE GONDIM DE OLIVEIRA', 0.003307083559624486),\n",
       " ('***849508**IDESIO DA SILVA COELHO JUNIOR', 0.003307083559624486),\n",
       " ('***840298**MARCOS ANTONIO QUINTANILHA', 0.003307083559624486),\n",
       " ('***195248**MARIA ELISA DE CASTRO GIANINI', 0.003307083559624486),\n",
       " ('***647617**SERGIO RICARDO ROMANI', 0.003307083559624486),\n",
       " ('***071677**JOAO RICARDO PEREIRA DA COSTA', 0.003307083559624486)]"
      ]
     },
     "execution_count": 18,
     "metadata": {},
     "output_type": "execute_result"
    }
   ],
   "source": [
    "# So, a node with high closeness centrality is literally close to other nodes.\n",
    "closeness = {}\n",
    "for key, G in graphs.items():\n",
    "    print(\"\\n\", key)\n",
    "    closeness[key] = nx.closeness_centrality(G)\n",
    "    print(sorted(closeness[key].items(), key=lambda x:x[1], reverse=True)[0:10])\n",
    "    print(\"---\")"
   ]
  },
  {
   "cell_type": "code",
   "execution_count": 19,
   "metadata": {},
   "outputs": [
    {
     "data": {
      "text/plain": [
       "[('***825215**ANTONIO LUIZ VITA SOUZA', 57970),\n",
       " ('***625898**LUIZ CARLOS PASSETTI', 57970),\n",
       " ('***835508**FERNANDO ALBERTO SCHWARTZ DE MAGALHAES', 57970),\n",
       " ('***931467**MAURO MOREIRA', 57970),\n",
       " ('***581634**HENRIQUE GONDIM DE OLIVEIRA', 57970),\n",
       " ('***849508**IDESIO DA SILVA COELHO JUNIOR', 57970),\n",
       " ('***840298**MARCOS ANTONIO QUINTANILHA', 57970),\n",
       " ('***195248**MARIA ELISA DE CASTRO GIANINI', 57970),\n",
       " ('***647617**SERGIO RICARDO ROMANI', 57970),\n",
       " ('***071677**JOAO RICARDO PEREIRA DA COSTA', 57970)]"
      ]
     },
     "execution_count": 19,
     "metadata": {},
     "output_type": "execute_result"
    }
   ],
   "source": [
    "#If an individual's local clustering coefficient is low, it suggests they aren't well-connected. \n",
    "# If the coefficient is high, it suggests that an individual's connections are redundant.\n",
    "triangles = nx.triangles(G_SOC)\n",
    "sorted(triangles.items(), key=lambda x:x[1], reverse=True)[0:10]"
   ]
  },
  {
   "cell_type": "markdown",
   "metadata": {},
   "source": [
    "---"
   ]
  },
  {
   "cell_type": "code",
   "execution_count": null,
   "metadata": {},
   "outputs": [],
   "source": [
    "betweenness = nx.betweenness_centrality(G, normalized=False)\n",
    "sorted(betweenness.items(), key=lambda x:x[1], reverse=True)[0:10]"
   ]
  },
  {
   "cell_type": "markdown",
   "metadata": {},
   "source": [
    "## Comunidades"
   ]
  },
  {
   "cell_type": "code",
   "execution_count": null,
   "metadata": {},
   "outputs": [],
   "source": [
    "# Generate the network\n",
    "G_karate = nx.karate_club_graph()\n",
    "# Find the communities\n",
    "communities = sorted(nxcom.greedy_modularity_communities(G_karate), key=len, reverse=True)\n",
    "# Count the communities\n",
    "len(communities)"
   ]
  },
  {
   "cell_type": "code",
   "execution_count": null,
   "metadata": {},
   "outputs": [],
   "source": [
    "cliques = list(nx.find_cliques(G_karate))"
   ]
  },
  {
   "cell_type": "code",
   "execution_count": null,
   "metadata": {},
   "outputs": [],
   "source": [
    "# Find max clique\n",
    "max_clique = max(cliques, key=len)\n",
    "max_clique\n",
    "[0, 1, 2, 3, 13]\n",
    "\n",
    "# Visualize maximum clique\n",
    "node_color = [(0.5, 0.5, 0.5) for v in G_karate.nodes()]\n",
    "for i, v in enumerate(G_karate.nodes()):\n",
    "    if v in max_clique:\n",
    "        node_color[i] = (0.5, 0.5, 0.9)\n",
    "nx.draw_networkx(G_karate, node_color=node_color, pos=karate_pos)"
   ]
  },
  {
   "cell_type": "code",
   "execution_count": null,
   "metadata": {},
   "outputs": [],
   "source": [
    "# Find k-cores\n",
    "G_core_30 = nx.k_core(G_social, 30)\n",
    "G_core_60 = nx.k_core(G_social, 60)\n",
    "\n",
    "# Visualize network and k-cores\n",
    "nx.draw_networkx(\n",
    "    G_social, pos=pos, node_size=0,\n",
    "    edge_color=\"#333333\", alpha=0.05, with_labels=False)\n",
    "nx.draw_networkx(\n",
    "    G_core_30, pos=pos, node_size=0,\n",
    "    edge_color=\"#7F7FEF\", alpha=0.05, with_labels=False)\n",
    "nx.draw_networkx(\n",
    "    G_core_60, pos=pos, node_size=0,\n",
    "    edge_color=\"#AFAF33\", alpha=0.05, with_labels=False)"
   ]
  },
  {
   "cell_type": "markdown",
   "metadata": {},
   "source": [
    "From the internet to airport trips, many networks are characterized by a few nodes with many connections, and many nodes with very few connections. These networks are called heavy-tailed because, when a histogram of the node degrees is drawn, the high-connectivity nodes form a tail.\n",
    "\n",
    "\n",
    "The heavy tails of these networks can be seen by plotting their degree distributions. The following function plots the degree distribution of a network:"
   ]
  },
  {
   "cell_type": "code",
   "execution_count": null,
   "metadata": {},
   "outputs": [],
   "source": [
    "def plot_degree_hist(G, title):\n",
    "    \"\"\"Plot histogram of node degrees.\"\"\"\n",
    "    plt.hist(dict(nx.degree(G)).values(), bins=range(1, 11))\n",
    "    # Label axes\n",
    "    plt.xlabel('Degree')\n",
    "    plt.ylabel('Count')\n",
    "    plt.title(title)\n",
    "    \n",
    "plt.figure(figsize=(7.5, 3.75))\n",
    "ax = plt.subplot(1,2,1)\n",
    "plot_degree_hist(G_preferential_35, '35 Nodes')\n",
    "for spine in ax.spines.values():\n",
    "    spine.set_visible(True)\n",
    "ax = plt.subplot(1,2,2)\n",
    "for spine in ax.spines.values():\n",
    "    spine.set_visible(True)\n",
    "plot_degree_hist(G_preferential_500, '500 Nodes')\n",
    "plt.tight_layout()"
   ]
  },
  {
   "cell_type": "markdown",
   "metadata": {},
   "source": [
    "Preferential attachment networks exhibit an additional property: they are scale-free. Degree distributions in scale-free networks follow a power law, which results in a similar structure at different scales. One way to see this is by comparing the preceding histograms. Despite very different scales, they have similar shapes."
   ]
  },
  {
   "cell_type": "markdown",
   "metadata": {},
   "source": [
    "---"
   ]
  },
  {
   "cell_type": "markdown",
   "metadata": {},
   "source": [
    "# Drawing"
   ]
  },
  {
   "cell_type": "code",
   "execution_count": null,
   "metadata": {},
   "outputs": [],
   "source": [
    "import networkx.algorithms.community as nxcom\n",
    "\n",
    "def community_net(G_in):\n",
    "    G_out = nx.Graph()\n",
    "    node_color = []\n",
    "    node_community = {}\n",
    "    communities = nxcom.greedy_modularity_communities(G_in)\n",
    "    for i, com in enumerate(communities):\n",
    "        for v in com:\n",
    "            G_out.add_node(v)\n",
    "            node_color.append(get_color(i))\n",
    "            node_community[v] = i\n",
    "    G_out.add_edges_from(G_in.edges())\n",
    "    return node_color, node_community, G_out\n",
    "\n",
    "node_color, node_community, G = community_net(G_karate)\n",
    "nx.draw_networkx(G, pos=nx.circular_layout(G), node_color=node_color)"
   ]
  },
  {
   "cell_type": "code",
   "execution_count": null,
   "metadata": {},
   "outputs": [],
   "source": [
    "degrees = dict(G.degree())\n",
    "labels = sorted(degrees.keys(), key=lambda x: degrees[x], reverse=True)\n",
    "nlist = []\n",
    "i, k = 0, 6\n",
    "while i < len(labels):\n",
    "    shell_labels = labels[i:i+k]\n",
    "    ordered_labels = sorted(shell_labels, key=lambda x: node_community[x])\n",
    "    nlist.append(ordered_labels)\n",
    "    i += k\n",
    "    k += 12\n",
    "pos = nx.shell_layout(G, nlist=nlist)\n",
    "cm = plt.get_cmap('cool')\n",
    "nx.draw_networkx(\n",
    "    G, pos, alpha=1, node_color=node_color, with_labels=True)"
   ]
  },
  {
   "cell_type": "code",
   "execution_count": null,
   "metadata": {},
   "outputs": [],
   "source": [
    "import math\n",
    "def residual_net(G):\n",
    "    G_residual = nx.Graph(G)\n",
    "    # Calculate weighted degrees\n",
    "    degrees = dict((v, 0) for v in G_residual.nodes)\n",
    "    for e in G_residual.edges:\n",
    "        v, w = e\n",
    "        degrees[v] += G_residual.edges[e]['count']\n",
    "        degrees[w] += G_residual.edges[e]['count']\n",
    "    # Calculate total edge weight in network\n",
    "    M = sum([G_residual.edges[e]['count'] for e in G_residual.edges])\n",
    "    # Find residual weight for each node pair\n",
    "    for v in G_residual.nodes:\n",
    "        for w in G_residual.nodes:\n",
    "            dv = degrees[v]\n",
    "            dw = degrees[w]\n",
    "            # Only count each edge once\n",
    "            if v >= w:\n",
    "                continue\n",
    "     # Expected fraction of weights associated with each endpoint\n",
    "            # Factor of two adjusts normalization for excuding v >= w\n",
    "            expected = (dv / M / 2) * (dw / M / 2) * 2 * M\n",
    "            if expected == 0:\n",
    "                continue\n",
    "            try:\n",
    "                count = G_residual.edges[v, w]['count']\n",
    "                log_residual = math.log10(count) - math.log10(expected)\n",
    "                G_residual.edges[v, w]['log_residual'] = log_residual\n",
    "            except KeyError:\n",
    "                continue\n",
    "    return G_residual\n",
    "\n",
    "# Generate residual network\n",
    "G_residual = residual_net(G_frank)\n",
    "\n",
    "\n",
    "# Find edges with residuals above a threshold\n",
    "threshold = 3.2\n",
    "edges = [\n",
    "    (v, w) for v, w, d in G_residual.edges(data=True)\n",
    "    if d['log_residual'] > threshold]\n",
    "# Create a network with only those edges\n",
    "G_threshold = G_residual.edge_subgraph(edges)\n",
    "# Find largest connected component\n",
    "G_giant = G_threshold.subgraph(max(nx.connected_components(G_threshold), key=len))\n",
    "\n",
    "\n",
    "# Find communities\n",
    "G = G_giant\n",
    "node_color, node_community, G = community_net(G)\n",
    "pos = nx.circular_layout(G)\n",
    "nx.draw_networkx(\n",
    "    G, pos=pos, node_size=100, node_color=node_color,\n",
    "    edge_color='#999999', with_labels=False)\n",
    "\n",
    "\n",
    "plt.figure(figsize=(15,15))\n",
    "pos = nx.spring_layout(G, pos=pos)\n",
    "nx.draw_networkx(\n",
    "    G, pos=pos, node_size=0, edge_color='#999999', with_labels=True)\n",
    "# Add margin for labels\n",
    "plt.xlim([-1.1, 1.1])"
   ]
  },
  {
   "cell_type": "code",
   "execution_count": null,
   "metadata": {},
   "outputs": [],
   "source": [
    "plt.figure(figsize=(20, 20))\n",
    "nx.draw(G_EMP, alpha=0.25, node_size=2)"
   ]
  },
  {
   "cell_type": "code",
   "execution_count": null,
   "metadata": {},
   "outputs": [],
   "source": []
  }
 ],
 "metadata": {
  "kernelspec": {
   "display_name": "Python 3",
   "language": "python",
   "name": "python3"
  },
  "language_info": {
   "codemirror_mode": {
    "name": "ipython",
    "version": 3
   },
   "file_extension": ".py",
   "mimetype": "text/x-python",
   "name": "python",
   "nbconvert_exporter": "python",
   "pygments_lexer": "ipython3",
   "version": "3.7.3"
  }
 },
 "nbformat": 4,
 "nbformat_minor": 2
}
